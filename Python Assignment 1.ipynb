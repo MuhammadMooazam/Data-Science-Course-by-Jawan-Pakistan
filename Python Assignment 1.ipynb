{
 "cells": [
  {
   "cell_type": "markdown",
   "id": "fdc98631",
   "metadata": {},
   "source": [
    "# Question 01"
   ]
  },
  {
   "cell_type": "code",
   "execution_count": 1,
   "id": "f25c0262",
   "metadata": {},
   "outputs": [
    {
     "name": "stdout",
     "output_type": "stream",
     "text": [
      "Twinkle, twinkle, little star,\n",
      "         How I wonder what you are!\n",
      "                 Up above the world so high,\n",
      "                 Like a diamond in the sky.\n",
      "Twinkle, twinkle, little star,\n",
      "         How I wonder what you are\n"
     ]
    }
   ],
   "source": [
    "print(\"Twinkle, twinkle, little star,\")\n",
    "print(\"         How I wonder what you are!\")\n",
    "print(\"                 Up above the world so high,\")\n",
    "print(\"                 Like a diamond in the sky.\")\n",
    "print(\"Twinkle, twinkle, little star,\")\n",
    "print(\"         How I wonder what you are\")"
   ]
  },
  {
   "cell_type": "markdown",
   "id": "49b31430",
   "metadata": {},
   "source": [
    "# Question 02"
   ]
  },
  {
   "cell_type": "code",
   "execution_count": 2,
   "id": "baa79337",
   "metadata": {},
   "outputs": [
    {
     "name": "stdout",
     "output_type": "stream",
     "text": [
      "Python version\n",
      "3.8.8 (default, Apr 13 2021, 15:08:03) [MSC v.1916 64 bit (AMD64)]\n"
     ]
    }
   ],
   "source": [
    "import sys\n",
    "print(\"Python version\")\n",
    "print (sys.version)"
   ]
  },
  {
   "cell_type": "markdown",
   "id": "78c90338",
   "metadata": {},
   "source": [
    "# Question 03"
   ]
  },
  {
   "cell_type": "code",
   "execution_count": 3,
   "id": "468e0e42",
   "metadata": {},
   "outputs": [
    {
     "name": "stdout",
     "output_type": "stream",
     "text": [
      "Current date and time : \n",
      "2021-10-22 02:07:05\n"
     ]
    }
   ],
   "source": [
    "import datetime\n",
    "now = datetime.datetime.now()\n",
    "print (\"Current date and time : \")\n",
    "print (now.strftime(\"%Y-%m-%d %H:%M:%S\"))"
   ]
  },
  {
   "cell_type": "markdown",
   "id": "b76d5609",
   "metadata": {},
   "source": [
    "# Question 04"
   ]
  },
  {
   "cell_type": "code",
   "execution_count": 4,
   "id": "bd4f382d",
   "metadata": {},
   "outputs": [
    {
     "name": "stdout",
     "output_type": "stream",
     "text": [
      "Enter the radius of the circle: 10\n",
      "The area of the circle is 314.159 sq. unit\n"
     ]
    }
   ],
   "source": [
    "radius = int(input(\"Enter the radius of the circle: \"))\n",
    "area = 3.14159 * radius * radius\n",
    "print(\"The area of the circle is \" + str(area) + \" sq. unit\")"
   ]
  },
  {
   "cell_type": "markdown",
   "id": "0b9aee92",
   "metadata": {},
   "source": [
    "# Question 05"
   ]
  },
  {
   "cell_type": "code",
   "execution_count": 5,
   "id": "6f2df6c2",
   "metadata": {},
   "outputs": [
    {
     "name": "stdout",
     "output_type": "stream",
     "text": [
      "Enter your first name: Syed Muhammad\n",
      "Enter your last name: Mooazam\n",
      "Mooazam Syed Muhammad\n"
     ]
    }
   ],
   "source": [
    "firstName = input(\"Enter your first name: \")\n",
    "lastName = input(\"Enter your last name: \")\n",
    "print(lastName + \" \" + firstName)"
   ]
  },
  {
   "cell_type": "markdown",
   "id": "5b58ce36",
   "metadata": {},
   "source": [
    "# Question 06"
   ]
  },
  {
   "cell_type": "code",
   "execution_count": 6,
   "id": "22138e58",
   "metadata": {},
   "outputs": [
    {
     "name": "stdout",
     "output_type": "stream",
     "text": [
      "Enter first number: 90\n",
      "Enter second number: 10\n",
      "Sum of 90 and 10 is 100\n"
     ]
    }
   ],
   "source": [
    "num1 = int(input(\"Enter first number: \"))\n",
    "num2 = int(input(\"Enter second number: \"))\n",
    "print(\"Sum of \" + str(num1) + \" and \" + str(num2) + \" is \" + str(num1+num2))"
   ]
  },
  {
   "cell_type": "markdown",
   "id": "90bd745f",
   "metadata": {},
   "source": [
    "# Question 07"
   ]
  },
  {
   "cell_type": "code",
   "execution_count": 7,
   "id": "ace9d495",
   "metadata": {},
   "outputs": [
    {
     "name": "stdout",
     "output_type": "stream",
     "text": [
      "Enter your marks in English: 90\n",
      "Enter your marks in Physics: 100\n",
      "Enter your marks in Mathematics: 100\n",
      "Enter your marks in Chemistry: 95\n",
      "Enter your marks in Urdu: 90\n",
      "Your percentage is 95.0 %\n",
      "Your grade is A+\n"
     ]
    }
   ],
   "source": [
    "obt_marks_eng = int(input(\"Enter your marks in English: \"))\n",
    "obt_marks_physics = int(input(\"Enter your marks in Physics: \"))\n",
    "obt_marks_maths = int(input(\"Enter your marks in Mathematics: \"))\n",
    "obt_marks_chemistry = int(input(\"Enter your marks in Chemistry: \"))\n",
    "obt_marks_urdu = int(input(\"Enter your marks in Urdu: \"))\n",
    "total_marks = 500\n",
    "total_obt_marks = obt_marks_eng + obt_marks_physics + obt_marks_maths + obt_marks_chemistry + obt_marks_urdu \n",
    "percentage = total_obt_marks / total_marks * 100\n",
    "if percentage<=100 and percentage>=80:\n",
    "    print(\"Your percentage is \" + str(percentage) + \" %\")\n",
    "    print(\"Your grade is A+\")\n",
    "elif percentage<=80 and percentage>=70:\n",
    "    print(\"Your percentage is \" + str(percentage) + \" %\")\n",
    "    print(\"Your grade is A\")\n",
    "elif percentage<=70 and percentage>=60:\n",
    "    print(\"Your percentage is \" + str(percentage) + \" %\")\n",
    "    print(\"Your grade is B\")\n",
    "elif percentage<=60 and percentage>=50:\n",
    "    print(\"Your percentage is \" + str(percentage) + \" %\")\n",
    "    print(\"Your grade is C\")\n",
    "elif percentage<=50 and percentage>=33:\n",
    "    print(\"Your percentage is \" + str(percentage) + \" %\")\n",
    "    print(\"Your grade is D\")\n",
    "elif percentage<=33 and percentage>=0:\n",
    "    print(\"Your percentage is \" + str(percentage) + \" %\")\n",
    "    print(\"Your grade is F\")\n",
    "else:\n",
    "    print(\"You entered wrong numbers!!!\")"
   ]
  },
  {
   "cell_type": "markdown",
   "id": "55f0de4c",
   "metadata": {},
   "source": [
    "# Question 08"
   ]
  },
  {
   "cell_type": "code",
   "execution_count": 8,
   "id": "66314797",
   "metadata": {},
   "outputs": [
    {
     "name": "stdout",
     "output_type": "stream",
     "text": [
      "Enter the number: 78965342\n",
      "The number you entered is Even\n"
     ]
    }
   ],
   "source": [
    "number = int(input(\"Enter the number: \"))\n",
    "if number%2==0:\n",
    "    print(\"The number you entered is Even\")\n",
    "elif number%2!=0:\n",
    "    print(\"The number you entered is Odd\")"
   ]
  },
  {
   "cell_type": "markdown",
   "id": "6be21c6c",
   "metadata": {},
   "source": [
    "# Question 09"
   ]
  },
  {
   "cell_type": "code",
   "execution_count": 9,
   "id": "30d74131",
   "metadata": {},
   "outputs": [
    {
     "data": {
      "text/plain": [
       "5"
      ]
     },
     "execution_count": 9,
     "metadata": {},
     "output_type": "execute_result"
    }
   ],
   "source": [
    "city = [\"Karachi\",\"Lahore\",\"Islamabad\",\"Peshawar\",\"Quetta\"]\n",
    "len(city)"
   ]
  },
  {
   "cell_type": "markdown",
   "id": "6f4fc013",
   "metadata": {},
   "source": [
    "# Question 10"
   ]
  },
  {
   "cell_type": "code",
   "execution_count": 10,
   "id": "83f000fb",
   "metadata": {},
   "outputs": [
    {
     "name": "stdout",
     "output_type": "stream",
     "text": [
      "55\n"
     ]
    }
   ],
   "source": [
    "numbers = [1,2,3,4,5,6,7,8,9,10]\n",
    "answer = 0\n",
    "for i in numbers:\n",
    "    answer = answer + i\n",
    "print(answer)"
   ]
  },
  {
   "cell_type": "markdown",
   "id": "2abd242a",
   "metadata": {},
   "source": [
    "# Question 11"
   ]
  },
  {
   "cell_type": "code",
   "execution_count": 11,
   "id": "79ef8694",
   "metadata": {},
   "outputs": [
    {
     "name": "stdout",
     "output_type": "stream",
     "text": [
      "The largest number in the list is: 10\n"
     ]
    }
   ],
   "source": [
    "numbers = [1,4,5,6,2,3,9,10,7,8]\n",
    "print(\"The largest number in the list is: \" + str(max(numbers)))"
   ]
  },
  {
   "cell_type": "markdown",
   "id": "c1cbba67",
   "metadata": {},
   "source": [
    "# Question 12"
   ]
  },
  {
   "cell_type": "code",
   "execution_count": 12,
   "id": "b3412175",
   "metadata": {},
   "outputs": [
    {
     "name": "stdout",
     "output_type": "stream",
     "text": [
      "[1, 1, 2, 3, 5]\n"
     ]
    }
   ],
   "source": [
    "a = [1, 1, 2, 3, 5, 8, 13, 21, 34, 55, 89]\n",
    "b=[]\n",
    "for i in a:\n",
    "    if i<=5:\n",
    "        b.append(i)\n",
    "print(b)"
   ]
  }
 ],
 "metadata": {
  "kernelspec": {
   "display_name": "Python 3",
   "language": "python",
   "name": "python3"
  },
  "language_info": {
   "codemirror_mode": {
    "name": "ipython",
    "version": 3
   },
   "file_extension": ".py",
   "mimetype": "text/x-python",
   "name": "python",
   "nbconvert_exporter": "python",
   "pygments_lexer": "ipython3",
   "version": "3.8.8"
  }
 },
 "nbformat": 4,
 "nbformat_minor": 5
}
